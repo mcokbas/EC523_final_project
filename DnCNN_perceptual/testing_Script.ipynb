{
 "cells": [
  {
   "cell_type": "code",
   "execution_count": 10,
   "metadata": {},
   "outputs": [],
   "source": [
    "import configparser\n",
    "import logging\n",
    "import torch\n",
    "import torch.nn as nn\n",
    "import torch.optim as optim\n",
    "from torch.optim.lr_scheduler import MultiStepLR\n",
    "from pathlib import Path\n",
    "from model import DnCNN\n",
    "import data_generator as dg\n",
    "from torch.utils.data import DataLoader\n",
    "import matplotlib.pyplot as plt\n",
    "import numpy as np\n",
    "import random\n",
    "from timeit import default_timer as timer\n",
    "import cv2\n",
    "from skimage.metrics import peak_signal_noise_ratio\n",
    "from skimage.metrics import structural_similarity\n",
    "import glob\n",
    "from noise_model import poissonpoissonnoise as nm\n",
    "import datetime\n",
    "from vgg import Vgg16\n",
    "from torchvision import transforms\n",
    "import torchvision"
   ]
  },
  {
   "cell_type": "code",
   "execution_count": 11,
   "metadata": {},
   "outputs": [],
   "source": [
    "test_data_dir = \"/projectnb/ec523/mcokbas/Final_project/KAIR/testsets/set12\"\n",
    "eta_min = 2\n",
    "eta_max = 8\n",
    "dose = 0.2\n",
    "\n",
    "test_file_list = glob.glob(test_data_dir + \"/*.png\")\n",
    "xs_test = []\n",
    "# Can't directly convert the xs_test from list to ndarray because some images are 512*512\n",
    "# while the rest are 256*256.\n",
    "for i in range(len(test_file_list)):\n",
    "    img = cv2.imread(test_file_list[i], 0)\n",
    "    img = np.array(img, dtype=\"float32\") / 255.0\n",
    "    img = np.expand_dims(img, axis=0)\n",
    "    img_noisy, _ = nm(img, eta_min, eta_max, dose, t=100)\n",
    "    xs_test.append((img_noisy, img))"
   ]
  },
  {
   "cell_type": "code",
   "execution_count": 15,
   "metadata": {
    "scrolled": true
   },
   "outputs": [
    {
     "name": "stdout",
     "output_type": "stream",
     "text": [
      "<class 'torch.Tensor'>\n",
      "<class 'torch.Tensor'>\n",
      "<class 'torch.Tensor'>\n",
      "<class 'torch.Tensor'>\n",
      "<class 'torch.Tensor'>\n",
      "<class 'torch.Tensor'>\n",
      "<class 'torch.Tensor'>\n",
      "<class 'torch.Tensor'>\n",
      "<class 'torch.Tensor'>\n",
      "<class 'torch.Tensor'>\n",
      "<class 'torch.Tensor'>\n",
      "<class 'torch.Tensor'>\n"
     ]
    }
   ],
   "source": [
    "model_save_dir = \"/projectnb/ec523/mcokbas/Final_project/DnCNN_poisson_perceptual/model_path/dose20\"\n",
    "model_path = Path(model_save_dir) / \"{}.pth\".format(20)\n",
    "net = DnCNN(depth=17, n_channels=64,\n",
    "                  img_channel=1,\n",
    "                  use_bnorm= 'on',\n",
    "                  kernel_size=3)\n",
    "device = torch.device(\"cuda:0\" if torch.cuda.is_available() else \"cpu\")\n",
    "\n",
    "net = net.to(device)\n",
    "# Restore the model.\n",
    "net.load_state_dict(torch.load(model_path))\n",
    "\n",
    "net.eval()\n",
    "\n",
    "\n",
    "with torch.no_grad():\n",
    "    for idx, test_data in enumerate(xs_test):\n",
    "        inputs, labels = test_data\n",
    "        inputs = np.expand_dims(inputs, axis=0)\n",
    "        inputs = torch.from_numpy(inputs).to(device)\n",
    "        labels = labels.squeeze()\n",
    "\n",
    "        outputs = net(inputs)\n",
    "        saving_img_dir = \"/projectnb/ec523/mcokbas/Final_project/DnCNN_poisson_perceptual/test_res_imgs/\"+ str(idx) + \".png\" \n",
    "        saving_orig_dir = \"/projectnb/ec523/mcokbas/Final_project/DnCNN_poisson_perceptual/test_input_imgs/\"+ str(idx) + \".png\" \n",
    "        torchvision.utils.save_image(outputs, saving_img_dir)\n",
    "        torchvision.utils.save_image(inputs, saving_orig_dir)\n",
    "        print(type(outputs))\n",
    "#         outputs = outputs.squeeze().cpu().detach().numpy()"
   ]
  },
  {
   "cell_type": "code",
   "execution_count": 7,
   "metadata": {},
   "outputs": [
    {
     "name": "stdout",
     "output_type": "stream",
     "text": [
      "<class 'tuple'>\n"
     ]
    }
   ],
   "source": [
    "img = xs_test[0]\n",
    "print(type(img))"
   ]
  }
 ],
 "metadata": {
  "kernelspec": {
   "display_name": "Python 3",
   "language": "python",
   "name": "python3"
  },
  "language_info": {
   "codemirror_mode": {
    "name": "ipython",
    "version": 3
   },
   "file_extension": ".py",
   "mimetype": "text/x-python",
   "name": "python",
   "nbconvert_exporter": "python",
   "pygments_lexer": "ipython3",
   "version": "3.7.7"
  }
 },
 "nbformat": 4,
 "nbformat_minor": 4
}
